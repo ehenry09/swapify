{
 "cells": [
  {
   "cell_type": "code",
   "execution_count": 62,
   "metadata": {},
   "outputs": [],
   "source": [
    "import csv\n",
    "import datetime\n",
    "import glob\n",
    "import numpy as np\n",
    "import os\n",
    "import pandas as pd\n",
    "import psutil\n",
    "import random as random\n",
    "import re\n",
    "import subprocess\n",
    "import win32com.client as win32\n",
    "import zipfile\n",
    "from collections import Counter\n",
    "now = datetime.datetime.now()"
   ]
  },
  {
   "cell_type": "code",
   "execution_count": 8,
   "metadata": {},
   "outputs": [],
   "source": [
    "os.chdir() #Set working directory"
   ]
  },
  {
   "cell_type": "code",
   "execution_count": 108,
   "metadata": {
    "scrolled": true
   },
   "outputs": [],
   "source": [
    "# load data\n",
    "\n",
    "# move zipped google forms csv file from downloads to swapify directory\n",
    "\n",
    "swapraw = max(glob.glob('C:\\\\Users\\\\USER\\\\Downloads\\\\FILENAME*.zip'),\n",
    "             key = os.path.getctime)\n",
    "swapzipped = ('C:\\\\Users\\\\USER\\\\Desktop\\\\Swapify\\\\' + \n",
    "              re.search('Swapify\\_.*\\.zip', swapdl).group())\n",
    "os.rename(swapraw, swapzipped)\n",
    "\n",
    "# unzip file\n",
    "\n",
    "zipped = glob.glob('C:\\\\Users\\\\USER\\\\Desktop\\\\Swapify\\\\*.zip',)\n",
    "zip_ref = zipfile.ZipFile(zipped[0], 'r')\n",
    "zip_ref.extractall(\"C:\\\\Users\\\\USER\\\\Desktop\\\\Swapify\")\n",
    "zip_ref.close()\n",
    "\n",
    "# rename file\n",
    "\n",
    "swap = re.search('Swapify\\_.*\\.csv', zipped[0]).group()\n",
    "swaprename = 'test' + swap[:-4] + now.strftime('%Y%m%d') + '.csv'\n",
    "os.rename(swap, swaprename)\n",
    "\n",
    "# read csv and convert to df\n",
    "\n",
    "ifile = pd.read_csv(swaprename, usecols = [1, 2])\n",
    "df = pd.DataFrame(ifile)"
   ]
  },
  {
   "cell_type": "code",
   "execution_count": 3,
   "metadata": {},
   "outputs": [],
   "source": [
    "# randomize dfs\n",
    "\n",
    "dfrand = df.apply(np.random.permutation) #Randomize df rows\n",
    "\n",
    "# checking for duplicates\n",
    "\n",
    "check = pd.concat([df, dfrand], join = 'outer')\n",
    "dupes = sum(check.duplicated())\n",
    "while dupes > 0:\n",
    "    dfrand = df.apply(np.random.permutation)\n",
    "    check = pd.concat([df, dfrand], join = 'outer')\n",
    "    dupes = sum(check.duplicated())       "
   ]
  },
  {
   "cell_type": "code",
   "execution_count": 4,
   "metadata": {},
   "outputs": [],
   "source": [
    "email = dfrand[\"What's your e-mail?\"].values\n",
    "url = dfrand[\"What's your Spotify playlist URL?\"].values\n",
    "dictionary = dict(zip(email, url))  #make dictionary out of randomized lists"
   ]
  },
  {
   "cell_type": "code",
   "execution_count": null,
   "metadata": {},
   "outputs": [],
   "source": [
    "#Define strings for body of e-mail"
   ]
  },
  {
   "cell_type": "code",
   "execution_count": 5,
   "metadata": {},
   "outputs": [],
   "source": [
    "# Function to write and send e-mails\n",
    "def send_notification():\n",
    "    outlook = win32.Dispatch('outlook.application')\n",
    "    mail = outlook.CreateItem(0)\n",
    "    mail.To = email\n",
    "    mail.Subject = 'Playlist Day!'\n",
    "    mail.body = (\"It's playlist day! Here's a playlist:\\n\\n\" +\n",
    "                 url + \"\\n \\n\"\n",
    "                 \"To reach your playlist, enter the url into the Spotify search bar and search it. \\n \\n\"\n",
    "                 \"If you got your own playlist back, let me know and he'll get you a different one. \\n \\n\"\n",
    "                 \"Thanks for participating!\")\n",
    "    mail.send"
   ]
  },
  {
   "cell_type": "code",
   "execution_count": 6,
   "metadata": {},
   "outputs": [],
   "source": [
    "# Send e-mail\n",
    "for email, url in dictionary.items():\n",
    "    send_notification()"
   ]
  }
 ],
 "metadata": {
  "kernelspec": {
   "display_name": "Python 3",
   "language": "python",
   "name": "python3"
  },
  "language_info": {
   "codemirror_mode": {
    "name": "ipython",
    "version": 3
   },
   "file_extension": ".py",
   "mimetype": "text/x-python",
   "name": "python",
   "nbconvert_exporter": "python",
   "pygments_lexer": "ipython3",
   "version": "3.6.4"
  }
 },
 "nbformat": 4,
 "nbformat_minor": 2
}
